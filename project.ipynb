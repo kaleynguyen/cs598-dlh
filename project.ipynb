{
 "cells": [
  {
   "cell_type": "code",
   "execution_count": 48,
   "metadata": {},
   "outputs": [],
   "source": [
    "import polars as pl\n",
    "import os\n",
    "import pickle"
   ]
  },
  {
   "cell_type": "code",
   "execution_count": 49,
   "metadata": {},
   "outputs": [],
   "source": [
    "events = pickle.load(open(os.path.join('data/', 'allevents_by_episode'), 'rb'))"
   ]
  },
  {
   "cell_type": "code",
   "execution_count": 50,
   "metadata": {},
   "outputs": [
    {
     "data": {
      "text/html": [
       "<div><style>\n",
       ".dataframe > thead > tr > th,\n",
       ".dataframe > tbody > tr > td {\n",
       "  text-align: right;\n",
       "}\n",
       "</style>\n",
       "<small>shape: (33_715, 3)</small><table border=\"1\" class=\"dataframe\"><thead><tr><th>subject_id</th><th>uniq_itemid</th><th>mortality_tf</th></tr><tr><td>i32</td><td>list[list[str]]</td><td>bool</td></tr></thead><tbody><tr><td>29512</td><td>[[&quot;226560&quot;, &quot;226633&quot;], [&quot;225639&quot;, &quot;223770&quot;, … &quot;223769&quot;], … [&quot;8441&quot;, &quot;8367&quot;, … &quot;8554&quot;]]</td><td>false</td></tr><tr><td>3024</td><td>[[&quot;72&quot;, &quot;159&quot;, … &quot;51093&quot;], [&quot;8437&quot;, &quot;8388&quot;, … &quot;8480&quot;], … [&quot;121&quot;, &quot;657&quot;, … &quot;40055&quot;]]</td><td>true</td></tr><tr><td>32328</td><td>[[&quot;620&quot;, &quot;399&quot;, … &quot;235&quot;], [&quot;40071&quot;, &quot;40055&quot;, … &quot;51221&quot;], … [&quot;225624&quot;, &quot;225667&quot;, … &quot;225698&quot;]]</td><td>false</td></tr><tr><td>69776</td><td>[[&quot;225637&quot;, &quot;228006&quot;, … &quot;220227&quot;], [&quot;226559&quot;, &quot;51436&quot;, … &quot;51491&quot;], … [&quot;225113&quot;, &quot;225133&quot;, … &quot;226633&quot;]]</td><td>true</td></tr><tr><td>6400</td><td>[[&quot;8553&quot;, &quot;8477&quot;, … &quot;8392&quot;], [&quot;137&quot;, &quot;1703&quot;, … &quot;50868&quot;], … [&quot;294&quot;, &quot;439&quot;, … &quot;5819&quot;]]</td><td>false</td></tr><tr><td>17464</td><td>[[&quot;297&quot;, &quot;49&quot;, … &quot;40055&quot;], [&quot;8549&quot;, &quot;8551&quot;, … &quot;8382&quot;], … [&quot;50868&quot;, &quot;50967&quot;, … &quot;51493&quot;]]</td><td>false</td></tr><tr><td>41816</td><td>[[&quot;226559&quot;], [&quot;223752&quot;, &quot;224687&quot;, … &quot;220339&quot;], … [&quot;227367&quot;, &quot;228099&quot;, … &quot;226137&quot;]]</td><td>false</td></tr><tr><td>82416</td><td>[[&quot;225067&quot;, &quot;225210&quot;, … &quot;225358&quot;], [&quot;226588&quot;, &quot;226559&quot;, … &quot;226589&quot;], … [&quot;224054&quot;, &quot;224082&quot;, … &quot;224093&quot;]]</td><td>false</td></tr><tr><td>32600</td><td>[[&quot;424&quot;, &quot;51&quot;, … &quot;5815&quot;], [&quot;663&quot;, &quot;1524&quot;, … &quot;51000&quot;], … [&quot;40094&quot;, &quot;40069&quot;]]</td><td>false</td></tr><tr><td>28008</td><td>[[&quot;8477&quot;, &quot;8382&quot;, … &quot;8402&quot;], [&quot;40055&quot;], … [&quot;1698&quot;, &quot;352&quot;, … &quot;5815&quot;]]</td><td>false</td></tr><tr><td>15928</td><td>[[&quot;8368&quot;, &quot;8393&quot;, … &quot;8456&quot;], [&quot;294&quot;, &quot;1427&quot;, … &quot;156&quot;], … [&quot;479&quot;, &quot;1125&quot;, … &quot;1533&quot;]]</td><td>false</td></tr><tr><td>97424</td><td>[[&quot;51222&quot;, &quot;51256&quot;, … &quot;51254&quot;], [&quot;224058&quot;, &quot;224057&quot;, … &quot;224756&quot;], … [&quot;220181&quot;, &quot;220615&quot;, … &quot;227442&quot;]]</td><td>false</td></tr><tr><td>&hellip;</td><td>&hellip;</td><td>&hellip;</td></tr><tr><td>13263</td><td>[[&quot;428&quot;, &quot;1521&quot;, … &quot;40055&quot;], [&quot;51237&quot;, &quot;51275&quot;, … &quot;50810&quot;], … [&quot;229&quot;, &quot;585&quot;, … &quot;40055&quot;]]</td><td>false</td></tr><tr><td>591</td><td>[[&quot;40069&quot;, &quot;40048&quot;, … &quot;40059&quot;], [&quot;5820&quot;, &quot;156&quot;, … &quot;40055&quot;], … [&quot;623&quot;, &quot;678&quot;, … &quot;50983&quot;]]</td><td>false</td></tr><tr><td>22183</td><td>[[&quot;40055&quot;, &quot;40069&quot;, &quot;40076&quot;], [&quot;410&quot;, &quot;627&quot;, … &quot;50817&quot;], … [&quot;8419&quot;, &quot;8433&quot;, … &quot;8456&quot;]]</td><td>false</td></tr><tr><td>5255</td><td>[[&quot;8551&quot;, &quot;8441&quot;, … &quot;8549&quot;], [&quot;1427&quot;, &quot;203&quot;, … &quot;40055&quot;], [&quot;1521&quot;, &quot;1425&quot;, … &quot;51448&quot;]]</td><td>false</td></tr><tr><td>32559</td><td>[[&quot;5819&quot;, &quot;1427&quot;, … &quot;585&quot;], [&quot;226559&quot;], … [&quot;168&quot;, &quot;733&quot;, … &quot;50957&quot;]]</td><td>false</td></tr><tr><td>23519</td><td>[[&quot;8480&quot;, &quot;8456&quot;, … &quot;8381&quot;], [&quot;5820&quot;, &quot;549&quot;, … &quot;5819&quot;], [&quot;733&quot;, &quot;85&quot;, … &quot;51221&quot;]]</td><td>false</td></tr><tr><td>51327</td><td>[[&quot;226612&quot;, &quot;226560&quot;], [&quot;226559&quot;], … [&quot;225090&quot;, &quot;228337&quot;, … &quot;223934&quot;]]</td><td>false</td></tr><tr><td>50471</td><td>[[&quot;50810&quot;, &quot;50804&quot;, … &quot;51275&quot;], [&quot;220228&quot;, &quot;227468&quot;, … &quot;223876&quot;], … [&quot;227350&quot;, &quot;226136&quot;, … &quot;225126&quot;]]</td><td>true</td></tr><tr><td>10159</td><td>[[&quot;324&quot;, &quot;720&quot;, … &quot;50816&quot;], [&quot;8401&quot;, &quot;8454&quot;, … &quot;8549&quot;], … [&quot;40053&quot;, &quot;40055&quot;]]</td><td>false</td></tr><tr><td>70367</td><td>[[&quot;224161&quot;, &quot;226512&quot;, … &quot;220602&quot;], [&quot;225133&quot;, &quot;224168&quot;, … &quot;225124&quot;], … [&quot;226560&quot;]]</td><td>false</td></tr><tr><td>65959</td><td>[[&quot;224289&quot;, &quot;223925&quot;, … &quot;223919&quot;], [&quot;226583&quot;, &quot;226580&quot;, … &quot;226559&quot;], … [&quot;226107&quot;, &quot;225070&quot;, … &quot;51251&quot;]]</td><td>false</td></tr><tr><td>60295</td><td>[[&quot;226560&quot;, &quot;226559&quot;, … &quot;226626&quot;], [&quot;51222&quot;, &quot;50825&quot;, … &quot;50954&quot;], … [&quot;226559&quot;]]</td><td>false</td></tr></tbody></table></div>"
      ],
      "text/plain": [
       "shape: (33_715, 3)\n",
       "┌────────────┬───────────────────────────────────┬──────────────┐\n",
       "│ subject_id ┆ uniq_itemid                       ┆ mortality_tf │\n",
       "│ ---        ┆ ---                               ┆ ---          │\n",
       "│ i32        ┆ list[list[str]]                   ┆ bool         │\n",
       "╞════════════╪═══════════════════════════════════╪══════════════╡\n",
       "│ 29512      ┆ [[\"226560\", \"226633\"], [\"225639\"… ┆ false        │\n",
       "│ 3024       ┆ [[\"72\", \"159\", … \"51093\"], [\"843… ┆ true         │\n",
       "│ 32328      ┆ [[\"620\", \"399\", … \"235\"], [\"4007… ┆ false        │\n",
       "│ 69776      ┆ [[\"225637\", \"228006\", … \"220227\"… ┆ true         │\n",
       "│ …          ┆ …                                 ┆ …            │\n",
       "│ 10159      ┆ [[\"324\", \"720\", … \"50816\"], [\"84… ┆ false        │\n",
       "│ 70367      ┆ [[\"224161\", \"226512\", … \"220602\"… ┆ false        │\n",
       "│ 65959      ┆ [[\"224289\", \"223925\", … \"223919\"… ┆ false        │\n",
       "│ 60295      ┆ [[\"226560\", \"226559\", … \"226626\"… ┆ false        │\n",
       "└────────────┴───────────────────────────────────┴──────────────┘"
      ]
     },
     "execution_count": 50,
     "metadata": {},
     "output_type": "execute_result"
    }
   ],
   "source": [
    "events"
   ]
  },
  {
   "cell_type": "code",
   "execution_count": null,
   "metadata": {},
   "outputs": [],
   "source": []
  }
 ],
 "metadata": {
  "kernelspec": {
   "display_name": "Python 3",
   "language": "python",
   "name": "python3"
  },
  "language_info": {
   "codemirror_mode": {
    "name": "ipython",
    "version": 3
   },
   "file_extension": ".py",
   "mimetype": "text/x-python",
   "name": "python",
   "nbconvert_exporter": "python",
   "pygments_lexer": "ipython3",
   "version": "3.11.1"
  },
  "orig_nbformat": 4
 },
 "nbformat": 4,
 "nbformat_minor": 2
}
